{
 "cells": [
  {
   "cell_type": "code",
   "execution_count": 1,
   "metadata": {},
   "outputs": [],
   "source": [
    "# Helper function for displaying string in markdown.\n",
    "# Not necessary for actual code.\n",
    "from IPython.display import Markdown, display\n",
    "\n",
    "def printmd(string):\n",
    "    display(Markdown(string))"
   ]
  },
  {
   "cell_type": "code",
   "execution_count": 2,
   "metadata": {},
   "outputs": [
    {
     "data": {
      "text/markdown": [
       "![Image](https://storage.googleapis.com/demo-cloud-vision/3.jpg)"
      ],
      "text/plain": [
       "<IPython.core.display.Markdown object>"
      ]
     },
     "metadata": {},
     "output_type": "display_data"
    }
   ],
   "source": [
    "# Imports the the Google Cloud client library.\n",
    "from google.cloud import vision\n",
    "\n",
    "# Instantiates a ImageAnnotatorClient object.\n",
    "# Explicitly uses service account credentials by specifying the private key JSON file.\n",
    "client = vision.ImageAnnotatorClient.from_service_account_json(\"service-account-private-key.json\")\n",
    "\n",
    "# Parses the image file.\n",
    "file_name = \"https://storage.googleapis.com/demo-cloud-vision/3.jpg\"\n",
    "image = vision.types.Image()\n",
    "image.source.image_uri = file_name\n",
    "\n",
    "printmd(\"![Image]({0})\".format(file_name))"
   ]
  },
  {
   "cell_type": "code",
   "execution_count": null,
   "metadata": {},
   "outputs": [],
   "source": []
  },
  {
   "cell_type": "code",
   "execution_count": null,
   "metadata": {},
   "outputs": [],
   "source": []
  }
 ],
 "metadata": {
  "kernelspec": {
   "display_name": "Python 3",
   "language": "python",
   "name": "python3"
  },
  "language_info": {
   "codemirror_mode": {
    "name": "ipython",
    "version": 3
   },
   "file_extension": ".py",
   "mimetype": "text/x-python",
   "name": "python",
   "nbconvert_exporter": "python",
   "pygments_lexer": "ipython3",
   "version": "3.5.2"
  }
 },
 "nbformat": 4,
 "nbformat_minor": 2
}
